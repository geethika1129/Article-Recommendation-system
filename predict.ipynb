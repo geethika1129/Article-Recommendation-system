{
 "cells": [
  {
   "cell_type": "code",
   "execution_count": null,
   "metadata": {},
   "outputs": [],
   "source": [
    "import pandas as pd\n",
    "import numpy as np\n",
    "from sklearn.feature_extraction import text\n",
    "from sklearn.metrics.pairwise import cosine_similarity\n",
    "data = pd.read_csv(\"articles.csv\")\n",
    "data.head()"
   ]
  },
  {
   "cell_type": "code",
   "execution_count": null,
   "metadata": {},
   "outputs": [],
   "source": [
    "articles = data[\"Article\"].tolist()\n",
    "uni_tfidf = text.TfidfVectorizer(input=articles, stop_words=\"english\")\n",
    "uni_matrix = uni_tfidf.fit_transform(articles)\n",
    "uni_sim = cosine_similarity(uni_matrix)\n",
    "def recommend_articles(x):\n",
    "    return \", \".join(data[\"Title\"].loc[x.argsort()[–5:–1]])    \n",
    "data[\"Recommended Articles\"] = [recommend_articles(x) for x in uni_sim]\n",
    "data.head()"
   ]
  },
  {
   "cell_type": "code",
   "execution_count": null,
   "metadata": {},
   "outputs": [],
   "source": [
    "print(data[\"Recommended Articles\"][22])"
   ]
  },
  {
   "cell_type": "code",
   "execution_count": null,
   "metadata": {},
   "outputs": [],
   "source": []
  }
 ],
 "metadata": {
  "kernelspec": {
   "display_name": "Python 3",
   "language": "python",
   "name": "python3"
  },
  "language_info": {
   "name": "python",
   "version": "3.10.2"
  },
  "orig_nbformat": 4
 },
 "nbformat": 4,
 "nbformat_minor": 2
}
